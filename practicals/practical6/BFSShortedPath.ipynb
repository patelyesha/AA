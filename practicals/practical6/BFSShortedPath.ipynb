{
 "cells": [
  {
   "attachments": {},
   "cell_type": "markdown",
   "metadata": {},
   "source": [
    "#### Problem"
   ]
  },
  {
   "attachments": {},
   "cell_type": "markdown",
   "metadata": {},
   "source": [
    "Write a Program to Find out Shortest Path Using BFS Approach."
   ]
  },
  {
   "attachments": {},
   "cell_type": "markdown",
   "metadata": {},
   "source": [
    "### Solution"
   ]
  },
  {
   "cell_type": "code",
   "execution_count": 1,
   "metadata": {},
   "outputs": [],
   "source": [
    "def bfs(graph, start, end):\n",
    "    # Initialize the queue and visited set.\n",
    "    queue = [(start, [start])]\n",
    "    visited = set()\n",
    "\n",
    "    #While the queue is not empty, do the following:\n",
    "    while queue:\n",
    "        node, path = queue.pop(0)\n",
    "\n",
    "        #If the node is the end node, return the path.\n",
    "        if node == end:\n",
    "            return path\n",
    "        \n",
    "        # Mark the node as visited\n",
    "        visited.add(node)\n",
    "\n",
    "        # Add the node's neighbors to the queue\n",
    "        for neighbor in graph[node]:\n",
    "            if neighbor not in visited:\n",
    "                queue.append((neighbor, path+[neighbor]))\n",
    "\n"
   ]
  },
  {
   "cell_type": "code",
   "execution_count": 2,
   "metadata": {},
   "outputs": [
    {
     "name": "stdout",
     "output_type": "stream",
     "text": [
      "['A', 'C', 'E']\n"
     ]
    }
   ],
   "source": [
    "def main():\n",
    "    graph = {\n",
    "        \"A\": [\"B\", \"C\"],\n",
    "        \"B\": [\"A\", \"D\"],\n",
    "        \"C\": [\"A\", \"E\"],\n",
    "        \"D\": [\"B\"],\n",
    "        \"E\": [\"C\"]\n",
    "    }\n",
    "\n",
    "    # Find the shortest path from A to E\n",
    "    path = bfs(graph, \"A\", \"E\")\n",
    "\n",
    "    # Print the path\n",
    "    print(path)\n",
    "\n",
    "if __name__ == \"__main__\":\n",
    "    main()"
   ]
  }
 ],
 "metadata": {
  "kernelspec": {
   "display_name": "Python 3",
   "language": "python",
   "name": "python3"
  },
  "language_info": {
   "codemirror_mode": {
    "name": "ipython",
    "version": 3
   },
   "file_extension": ".py",
   "mimetype": "text/x-python",
   "name": "python",
   "nbconvert_exporter": "python",
   "pygments_lexer": "ipython3",
   "version": "3.10.6"
  },
  "orig_nbformat": 4
 },
 "nbformat": 4,
 "nbformat_minor": 2
}
