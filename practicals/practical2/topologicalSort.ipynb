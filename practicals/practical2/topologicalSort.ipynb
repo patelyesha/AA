{
 "cells": [
  {
   "attachments": {},
   "cell_type": "markdown",
   "metadata": {},
   "source": [
    "Reference - youtube - https://www.youtube.com/watch?v=ddTC4Zovtbc"
   ]
  },
  {
   "cell_type": "code",
   "execution_count": 5,
   "metadata": {},
   "outputs": [],
   "source": [
    "class Graph:\n",
    "    def __init__(self):\n",
    "        self.vertexes = {}\n",
    "\n",
    "    def add_edge(self, src, dest):\n",
    "        if src not in self.vertexes:\n",
    "            self.vertexes[src] = Vertex(src)\n",
    "        if dest not in self.vertexes:\n",
    "            self.vertexes[dest] = Vertex(dest)\n",
    "        self.vertexes[src].add_adjacent_vertex(self.vertexes[dest])\n",
    "        \n",
    "    def get_all_vertex(self):\n",
    "        return set(self.vertexes.values())\n"
   ]
  },
  {
   "cell_type": "code",
   "execution_count": 6,
   "metadata": {},
   "outputs": [],
   "source": [
    "class TopologicalSort:\n",
    "    def top_sort(self, graph: Graph):\n",
    "        stack = deque()\n",
    "        visited = set()\n",
    "        for vertex in graph.get_all_vertex():\n",
    "            if vertex in visited:\n",
    "                continue\n",
    "            self.top_sort_util(vertex, stack, visited)\n",
    "        return stack\n",
    "\n",
    "    def top_sort_util(self, vertex, stack, visited):\n",
    "        visited.add(vertex)\n",
    "        for child_vertex in vertex.get_adjacent_vertexes():\n",
    "            if child_vertex in visited:\n",
    "                continue\n",
    "            self.top_sort_util(child_vertex, stack, visited)\n",
    "        stack.appendleft(vertex)\n"
   ]
  },
  {
   "cell_type": "code",
   "execution_count": 8,
   "metadata": {},
   "outputs": [
    {
     "name": "stdout",
     "output_type": "stream",
     "text": [
      "1\n",
      "5\n",
      "6\n",
      "2\n",
      "3\n",
      "8\n",
      "4\n",
      "11\n"
     ]
    }
   ],
   "source": [
    "if __name__ == '__main__':\n",
    "    graph = Graph()\n",
    "    graph.add_edge(1, 3)\n",
    "    graph.add_edge(1, 2)\n",
    "    graph.add_edge(3, 4)\n",
    "    graph.add_edge(5, 6)\n",
    "    graph.add_edge(6, 3)\n",
    "    graph.add_edge(3, 8)\n",
    "    graph.add_edge(8, 11)\n",
    "\n",
    "    sort = TopologicalSort()\n",
    "    result = sort.top_sort(graph)\n",
    "    while result:\n",
    "        print(result.popleft())\n"
   ]
  },
  {
   "cell_type": "code",
   "execution_count": null,
   "metadata": {},
   "outputs": [],
   "source": []
  }
 ],
 "metadata": {
  "kernelspec": {
   "display_name": "Python 3",
   "language": "python",
   "name": "python3"
  },
  "language_info": {
   "codemirror_mode": {
    "name": "ipython",
    "version": 3
   },
   "file_extension": ".py",
   "mimetype": "text/x-python",
   "name": "python",
   "nbconvert_exporter": "python",
   "pygments_lexer": "ipython3",
   "version": "3.10.6"
  },
  "orig_nbformat": 4
 },
 "nbformat": 4,
 "nbformat_minor": 2
}
