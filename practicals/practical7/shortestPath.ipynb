{
 "cells": [
  {
   "attachments": {},
   "cell_type": "markdown",
   "metadata": {},
   "source": [
    "## BFS"
   ]
  },
  {
   "cell_type": "code",
   "execution_count": null,
   "metadata": {},
   "outputs": [],
   "source": [
    "# https://www.youtube.com/watch?v=SmOrBW22R2k"
   ]
  },
  {
   "cell_type": "code",
   "execution_count": 1,
   "metadata": {},
   "outputs": [],
   "source": [
    "num_nodes = 5\n",
    "edges=[(0,1), (0,4), (1,4), (1,3), (1,2), (4,3), (3,2)]"
   ]
  },
  {
   "attachments": {},
   "cell_type": "markdown",
   "metadata": {},
   "source": [
    "More efficient structure to represent the graph is adjacency lists"
   ]
  },
  {
   "cell_type": "code",
   "execution_count": 2,
   "metadata": {},
   "outputs": [
    {
     "data": {
      "text/plain": [
       "[[4], [4], [4], [4], [4], [4], [4], [4], [4], [4]]"
      ]
     },
     "execution_count": 2,
     "metadata": {},
     "output_type": "execute_result"
    }
   ],
   "source": [
    "l1 = [[]]*10\n",
    "l1[0].append(4)\n",
    "l1"
   ]
  },
  {
   "cell_type": "code",
   "execution_count": 3,
   "metadata": {},
   "outputs": [
    {
     "data": {
      "text/plain": [
       "[0, 1, 2, 3, 4, 5, 6, 7, 8, 9]"
      ]
     },
     "execution_count": 3,
     "metadata": {},
     "output_type": "execute_result"
    }
   ],
   "source": [
    "list(range(10))"
   ]
  },
  {
   "cell_type": "code",
   "execution_count": 4,
   "metadata": {},
   "outputs": [],
   "source": [
    "l2 = [[] for _ in range(10)]"
   ]
  },
  {
   "cell_type": "code",
   "execution_count": 5,
   "metadata": {},
   "outputs": [
    {
     "data": {
      "text/plain": [
       "[[1], [], [], [], [], [], [], [], [], []]"
      ]
     },
     "execution_count": 5,
     "metadata": {},
     "output_type": "execute_result"
    }
   ],
   "source": [
    "l2[0].append(1)\n",
    "l2"
   ]
  },
  {
   "cell_type": "code",
   "execution_count": 6,
   "metadata": {},
   "outputs": [],
   "source": [
    "class Graph:\n",
    "    def __init__(self, num_nodes, edges):\n",
    "        self.num_nodes = num_nodes\n",
    "        self.data = [[] for _ in range(num_nodes)]\n",
    "        for edge in edges:\n",
    "            # insert into the right list\n",
    "            self.add_edge(edge=edge)\n",
    "\n",
    "    def add_edge(self, edge):\n",
    "        self.data[edge[0]].append(edge[1])\n",
    "        self.data[edge[1]].append(edge[0])\n",
    "\n",
    "    def remove_edge(self, edge):\n",
    "        self.data[edge[0]].remove(edge[1])\n",
    "        self.data[edge[1]].remove(edge[0])\n",
    "\n",
    "\n",
    "    def __repr__(self):\n",
    "        return \"\\n\".join([\"{}:{}\".format(i,adjency) for i, adjency in enumerate(self.data)])\n",
    "\n",
    "    def __str__(self):\n",
    "        return self.__repr__()\n"
   ]
  },
  {
   "cell_type": "code",
   "execution_count": 7,
   "metadata": {},
   "outputs": [
    {
     "name": "stdout",
     "output_type": "stream",
     "text": [
      "0:[1, 4]\n",
      "1:[0, 4, 3, 2]\n",
      "2:[1, 3]\n",
      "3:[1, 4, 2]\n",
      "4:[0, 1, 3]\n"
     ]
    }
   ],
   "source": [
    "graph = Graph(num_nodes, edges);\n",
    "print(graph)"
   ]
  },
  {
   "cell_type": "code",
   "execution_count": 11,
   "metadata": {},
   "outputs": [],
   "source": [
    "def bfs(graph, root):\n",
    "    #define the queue\n",
    "    queue=[]\n",
    "\n",
    "    # discoved list\n",
    "    discovered = [False]*graph.num_nodes\n",
    "    distance = [None]*graph.num_nodes \n",
    "    parent = [None]*graph.num_nodes\n",
    "\n",
    "    # mark root as discovered and add it to Queue\n",
    "    discovered[root] = True\n",
    "    queue.append(root)\n",
    "    distance[root]=0\n",
    "\n",
    "    # Iterate over queue.\n",
    "    idx = 0\n",
    "    while idx < len(queue):\n",
    "        ver = queue[idx]\n",
    "        # Add all adjency not visited elements into the queue.\n",
    "        for adedge in graph.data[ver]:\n",
    "            if discovered[adedge] == False:\n",
    "                discovered[adedge] = True\n",
    "                parent[adedge] = ver\n",
    "                queue.append(adedge)\n",
    "                distance[adedge] = distance[ver]+1\n",
    "\n",
    "        idx += 1\n",
    "        \n",
    "    return queue, distance, parent   \n",
    "\n"
   ]
  },
  {
   "cell_type": "code",
   "execution_count": 13,
   "metadata": {},
   "outputs": [
    {
     "data": {
      "text/plain": [
       "([3, 1, 4, 2, 0], [2, 1, 1, 0, 1], [1, 3, 3, None, 3])"
      ]
     },
     "execution_count": 13,
     "metadata": {},
     "output_type": "execute_result"
    }
   ],
   "source": [
    "bfs(graph, 3)"
   ]
  },
  {
   "attachments": {},
   "cell_type": "markdown",
   "metadata": {},
   "source": [
    "## DFS"
   ]
  },
  {
   "cell_type": "code",
   "execution_count": 29,
   "metadata": {},
   "outputs": [],
   "source": [
    "def dfs(graph, root):\n",
    "    # stack for storing the data.\n",
    "    s = []\n",
    "\n",
    "    # discoved list\n",
    "    discovered = [False]*graph.num_nodes\n",
    "    \n",
    "    s.append(root)\n",
    "    while len(s) > 0:\n",
    "        v = s.pop()\n",
    "        if discovered[v] == False:\n",
    "            discovered[v] = True\n",
    "            print(v)\n",
    "\n",
    "            for adedge in graph.data[v]:\n",
    "                if discovered[adedge] == False:\n",
    "                    s.append(adedge)\n",
    "        "
   ]
  },
  {
   "cell_type": "code",
   "execution_count": 30,
   "metadata": {},
   "outputs": [
    {
     "name": "stdout",
     "output_type": "stream",
     "text": [
      "3\n",
      "2\n",
      "1\n",
      "4\n",
      "0\n"
     ]
    }
   ],
   "source": [
    "dfs(graph, 3)"
   ]
  },
  {
   "cell_type": "code",
   "execution_count": null,
   "metadata": {},
   "outputs": [],
   "source": []
  }
 ],
 "metadata": {
  "kernelspec": {
   "display_name": "Python 3",
   "language": "python",
   "name": "python3"
  },
  "language_info": {
   "codemirror_mode": {
    "name": "ipython",
    "version": 3
   },
   "file_extension": ".py",
   "mimetype": "text/x-python",
   "name": "python",
   "nbconvert_exporter": "python",
   "pygments_lexer": "ipython3",
   "version": "3.10.6"
  },
  "orig_nbformat": 4
 },
 "nbformat": 4,
 "nbformat_minor": 2
}
